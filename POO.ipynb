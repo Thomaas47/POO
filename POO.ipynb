{
 "cells": [
  {
   "cell_type": "code",
   "execution_count": 45,
   "metadata": {
    "scrolled": true
   },
   "outputs": [],
   "source": [
    "from PIL import Image\n",
    "from docx import Document\n",
    "import pytesseract\n",
    "pytesseract.pytesseract.tesseract_cmd = r'C:\\Program Files\\Tesseract-OCR\\tesseract.exe'"
   ]
  },
  {
   "cell_type": "code",
   "execution_count": 55,
   "metadata": {},
   "outputs": [],
   "source": [
    "document = Document(r\"C:\\Users\\Thomas\\Documents\\Colombie\\Cours\\POO\\industry.docx\")"
   ]
  },
  {
   "cell_type": "code",
   "execution_count": 58,
   "metadata": {},
   "outputs": [
    {
     "ename": "SyntaxError",
     "evalue": "(unicode error) 'unicodeescape' codec can't decode bytes in position 2-3: truncated \\UXXXXXXXX escape (<ipython-input-58-6fdea46125fa>, line 10)",
     "output_type": "error",
     "traceback": [
      "\u001b[1;36m  File \u001b[1;32m\"<ipython-input-58-6fdea46125fa>\"\u001b[1;36m, line \u001b[1;32m10\u001b[0m\n\u001b[1;33m    document.save(\"C:\\Users\\Thomas\\Documents\\Colombie\\Cours\\POO\\industry.docx\")\u001b[0m\n\u001b[1;37m                  ^\u001b[0m\n\u001b[1;31mSyntaxError\u001b[0m\u001b[1;31m:\u001b[0m (unicode error) 'unicodeescape' codec can't decode bytes in position 2-3: truncated \\UXXXXXXXX escape\n"
     ]
    }
   ],
   "source": [
    "def serie(image) :\n",
    "    img = Image.open(image)\n",
    "    box = (150, 1300, 300, 1330)\n",
    "    img2 = img.crop(box)\n",
    "    img2.save('cropped.png')\n",
    "    print(pytesseract.image_to_string(Image.open('cropped.png')))\n",
    "    a = pytesseract.image_to_string(Image.open('cropped.png'))\n",
    "    p = document.add_paragraph('Serie is')\n",
    "    p.add_run(a)\n",
    "    document.save(\"C:\\Users\\Thomas\\Documents\\Colombie\\Cours\\POO\\industry.docx\")\n",
    "    return \"C:\\Users\\Thomas\\Documents\\Colombie\\Cours\\POO\\industry.docx\"\n",
    "    \n",
    "def clase_metro(image) :\n",
    "    img = Image.open(image)\n",
    "    box = (320, 1300, 410, 1330)\n",
    "    img2 = img.crop(box)\n",
    "    img2.save('cropped.png')\n",
    "    print(pytesseract.image_to_string(Image.open('cropped.png')))\n",
    "    \n",
    "    \n",
    "def clase_precision(image) :\n",
    "    img = Image.open(image)\n",
    "    box = (440, 1290, 500, 1330)\n",
    "    img2 = img.crop(box)\n",
    "    img2.save('cropped.png')\n",
    "    print(pytesseract.image_to_string(Image.open('cropped.png')))\n",
    "    c = pytesseract.image_to_string(Image.open('cropped.png'))\n",
    "    document.add_paragraph(c)\n",
    "    document.save(\"dark-and-stormy.docx\")\n",
    "    \n",
    "def relacionQ(image) :\n",
    "    img = Image.open(image)\n",
    "    box = (530, 1300, 600, 1330)\n",
    "    img2 = img.crop(box)\n",
    "    img2.save('cropped.png')\n",
    "    print(pytesseract.image_to_string(Image.open('cropped.png')))\n",
    "    \n",
    "def tipo(image) :\n",
    "    img = Image.open(image)\n",
    "    box = (605, 1300, 740, 1330)\n",
    "    img2 = img.crop(box)\n",
    "    img2.save('cropped.png')\n",
    "    print(pytesseract.image_to_string(Image.open('cropped.png')))\n",
    "\n",
    "def longitud(image) :\n",
    "    img = Image.open(image)\n",
    "    box = (730, 1300, 870, 1330)\n",
    "    img2 = img.crop(box)\n",
    "    img2.save('cropped.png')\n",
    "    print(pytesseract.image_to_string(Image.open('cropped.png')))\n",
    "    \n",
    "def dn(image) :\n",
    "    img = Image.open(image)\n",
    "    box = (870, 1300, 940, 1330)\n",
    "    img2 = img.crop(box)\n",
    "    img2.save('cropped.png')\n",
    "    print(pytesseract.image_to_string(Image.open('cropped.png')))\n",
    "    \n",
    "def diametro(image) :\n",
    "    img = Image.open(image)\n",
    "    box = (940, 1300, 1030, 1330)\n",
    "    img2 = img.crop(box)\n",
    "    img2.save('cropped.png')\n",
    "    print(pytesseract.image_to_string(Image.open('cropped.png')))\n",
    "    \n",
    "def marca(image) :\n",
    "    img = Image.open(image)\n",
    "    box = (1030, 1300, 1180, 1330)\n",
    "    img2 = img.crop(box)\n",
    "    img2.save('cropped.png')\n",
    "    print(pytesseract.image_to_string(Image.open('cropped.png')))\n",
    "    \n",
    "def modelo(image) :\n",
    "    img = Image.open(image)\n",
    "    box = (1190, 1300, 1340, 1330)\n",
    "    img2 = img.crop(box)\n",
    "    img2.save('cropped.png')\n",
    "    print(pytesseract.image_to_string(Image.open('cropped.png')))\n",
    "    \n",
    "def edad(image) :\n",
    "    img = Image.open(image)\n",
    "    box = (1350, 1300, 1420, 1330)\n",
    "    img2 = img.crop(box)\n",
    "    img2.save('cropped.png')\n",
    "    print(pytesseract.image_to_string(Image.open('cropped.png')))\n",
    "    \n",
    "def codigo_usuario(image) :\n",
    "    img = Image.open(image)\n",
    "    box = (1420, 1300, 1600, 1330)\n",
    "    img2 = img.crop(box)\n",
    "    img2.save('cropped.png')\n",
    "    print(pytesseract.image_to_string(Image.open('cropped.png')))"
   ]
  },
  {
   "cell_type": "code",
   "execution_count": 49,
   "metadata": {},
   "outputs": [],
   "source": [
    "def todo(image):\n",
    "    serie(image)\n",
    "    clase_metro(image)\n",
    "    clase_precision(image)\n",
    "    relacionQ(image)\n",
    "    tipo(image)\n",
    "    longitud(image)\n",
    "    dn(image)\n",
    "    diametro(image)\n",
    "    marca(image)\n",
    "    modelo(image)\n",
    "    edad(image)\n",
    "    codigo_usuario(image)"
   ]
  },
  {
   "cell_type": "code",
   "execution_count": 50,
   "metadata": {
    "scrolled": true
   },
   "outputs": [
    {
     "name": "stdout",
     "output_type": "stream",
     "text": [
      "Q23HB000117 M\n",
      "\n",
      "No Aplica\n",
      "\n",
      "\n",
      "315\n",
      "\n",
      "Volumétrico\n",
      "\n",
      "190 mm.\n",
      "\n",
      "20\n",
      "\n",
      "3/4\"\n",
      "\n",
      "JANZ\n",
      "\n",
      "JV600\n",
      "\n",
      "2023\n",
      "\n",
      "No Aplica\n",
      "\n"
     ]
    }
   ],
   "source": [
    "todo(r'C:\\Users\\Thomas\\Downloads\\Calib-1-1.png')"
   ]
  },
  {
   "cell_type": "code",
   "execution_count": 59,
   "metadata": {
    "scrolled": true
   },
   "outputs": [
    {
     "name": "stdout",
     "output_type": "stream",
     "text": [
      "Q23HB000117 M\n",
      "\n"
     ]
    }
   ],
   "source": [
    "serie(r'C:\\Users\\Thomas\\Downloads\\Calib-1-1.png')"
   ]
  },
  {
   "cell_type": "code",
   "execution_count": 7,
   "metadata": {},
   "outputs": [],
   "source": [
    "box = (440, 1290, 500, 1330)\n",
    "img2 = img.crop(box)\n",
    "img2.save('myimage_cropped.png')\n",
    "img2.show()"
   ]
  },
  {
   "cell_type": "code",
   "execution_count": 3,
   "metadata": {
    "scrolled": true
   },
   "outputs": [
    {
     "name": "stdout",
     "output_type": "stream",
     "text": [
      "Serie\n",
      "\n",
      "Q23HB000117 M\n",
      "\n"
     ]
    }
   ],
   "source": [
    "pytesseract.pytesseract.tesseract_cmd = r'C:\\Program Files\\Tesseract-OCR\\tesseract.exe'\n",
    "r = pytesseract.image_to_string(Image.open(r'C:\\Users\\Thomas\\Downloads\\300.png'))\n",
    "print(r)"
   ]
  },
  {
   "cell_type": "code",
   "execution_count": 47,
   "metadata": {},
   "outputs": [
    {
     "name": "stdout",
     "output_type": "stream",
     "text": [
      "(1700, 2200)\n"
     ]
    }
   ],
   "source": [
    "img = Image.open(r'C:\\Users\\Thomas\\Downloads\\Calib-1-1.png')\n",
    "document = Document()\n",
    "print(img.size)"
   ]
  }
 ],
 "metadata": {
  "kernelspec": {
   "display_name": "Python 3",
   "language": "python",
   "name": "python3"
  },
  "language_info": {
   "codemirror_mode": {
    "name": "ipython",
    "version": 3
   },
   "file_extension": ".py",
   "mimetype": "text/x-python",
   "name": "python",
   "nbconvert_exporter": "python",
   "pygments_lexer": "ipython3",
   "version": "3.8.3"
  }
 },
 "nbformat": 4,
 "nbformat_minor": 4
}
